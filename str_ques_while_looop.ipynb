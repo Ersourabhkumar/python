{
 "cells": [
  {
   "cell_type": "code",
   "execution_count": 9,
   "id": "a361a03d-8a43-4d6f-8f2f-8b9f1e2db9b0",
   "metadata": {},
   "outputs": [
    {
     "name": "stdin",
     "output_type": "stream",
     "text": [
      " regexsoftware\n",
      " 4\n"
     ]
    },
    {
     "name": "stdout",
     "output_type": "stream",
     "text": [
      "x\n",
      "s\n",
      "o\n",
      "f\n",
      "t\n",
      "w\n",
      "a\n",
      "r\n",
      "e\n"
     ]
    }
   ],
   "source": [
    "''' take a string input from user and a position from a user\n",
    "print the character from the string from the position\n",
    "\n",
    " '''\n",
    "#Q.1-->\n",
    "s=input(\"\")\n",
    "p=int(input())\n",
    "\n",
    "while(p<len(s)):\n",
    "    print(s[p])\n",
    "    p+=1\n",
    "    \n"
   ]
  },
  {
   "cell_type": "code",
   "execution_count": 4,
   "id": "cfd17396-c693-488c-85e2-30f90c6f72d4",
   "metadata": {},
   "outputs": [
    {
     "name": "stdout",
     "output_type": "stream",
     "text": [
      "np\n"
     ]
    }
   ],
   "source": [
    "a=\"tussut\"\n",
    "i=0\n",
    "j=5\n",
    "x=0\n",
    "while(i<j):\n",
    "    if(a[i]!=a[j]):\n",
    "        a=1\n",
    "        break\n",
    "    i+=1\n",
    "    j-=1\n",
    "if(a==1):\n",
    "    print(\"p\")\n",
    "else:\n",
    "    print(\"np\")\n"
   ]
  },
  {
   "cell_type": "code",
   "execution_count": 7,
   "id": "e217ffff-b9a0-46f1-8c26-15416eab2f0d",
   "metadata": {},
   "outputs": [
    {
     "name": "stdout",
     "output_type": "stream",
     "text": [
      "0\n",
      "1\n",
      "2\n",
      "3\n",
      "4\n",
      "5\n"
     ]
    }
   ],
   "source": [
    "data=\"regexsoftware\"\n",
    "i=0\n",
    "j=12\n",
    "while(i<len(data)//2):\n",
    "    print(i)\n",
    "    i+=1\n"
   ]
  },
  {
   "cell_type": "code",
   "execution_count": 8,
   "id": "bf247671-d7b9-4431-9dc1-d49de8251c68",
   "metadata": {},
   "outputs": [
    {
     "name": "stdout",
     "output_type": "stream",
     "text": [
      "r r\n",
      "e e\n",
      "g g\n",
      "e e\n",
      "x x\n"
     ]
    }
   ],
   "source": [
    "data=\"regexsregex\"\n",
    "i=0\n",
    "j=len(data)//2+1\n",
    "while(i<len(data)//2):\n",
    "    print(data[i],data[j])\n",
    "    i+=1\n",
    "    j+=1\n",
    "        \n",
    "    "
   ]
  },
  {
   "cell_type": "code",
   "execution_count": 11,
   "id": "020ac837-9619-4606-b258-927130590a02",
   "metadata": {},
   "outputs": [
    {
     "name": "stdin",
     "output_type": "stream",
     "text": [
      " readhkd \n",
      "  \n"
     ]
    },
    {
     "name": "stdout",
     "output_type": "stream",
     "text": [
      "7\n"
     ]
    }
   ],
   "source": [
    "''' Q2 take a string and a character from a user\n",
    "- and provide the index position of that specific character\n",
    "( without using any inbuilt function or in operator) '''\n",
    "\n",
    "s=input(\"\")\n",
    "ch=input(\"\")\n",
    "i=0\n",
    "while(i<len(s)):\n",
    "    if(s[i]==ch):\n",
    "        print(i)\n",
    "    i+=1"
   ]
  },
  {
   "cell_type": "code",
   "execution_count": 23,
   "id": "779f095f-de99-4923-ab12-d42a76e00692",
   "metadata": {},
   "outputs": [
    {
     "ename": "IndentationError",
     "evalue": "unindent does not match any outer indentation level (<string>, line 17)",
     "output_type": "error",
     "traceback": [
      "  \u001b[36mFile \u001b[39m\u001b[32m<string>:17\u001b[39m\n\u001b[31m    \u001b[39m\u001b[31mif(count==1)\u001b[39m\n                ^\n\u001b[31mIndentationError\u001b[39m\u001b[31m:\u001b[39m unindent does not match any outer indentation level\n"
     ]
    }
   ],
   "source": [
    "''' Q3 take a string and the index position\n",
    "check the string first half should be same as second half of string from the last index\n",
    "- if both half is same print \"Yes\" else \"nO\"\n",
    "without using any slicing operator or inbuilt function '''\n",
    "s=\"regexregex\"\n",
    "#ind=int(input( ))\n",
    "i=0\n",
    "j=-1\n",
    "count=0\n",
    "\n",
    "while(i<len(s)//2):\n",
    "    if(s[i]!=s[j]):\n",
    "        count=1\n",
    "        break\n",
    "    i+=1\n",
    "    j-=1\n",
    " if(count==1):\n",
    "    print(\"no\")\n",
    "else:\n",
    "    print(\"yes\")\n"
   ]
  },
  {
   "cell_type": "code",
   "execution_count": null,
   "id": "a0c85eb7-46fe-4ad4-8081-ebfe364637f7",
   "metadata": {},
   "outputs": [],
   "source": []
  }
 ],
 "metadata": {
  "kernelspec": {
   "display_name": "Python 3 (ipykernel)",
   "language": "python",
   "name": "python3"
  },
  "language_info": {
   "codemirror_mode": {
    "name": "ipython",
    "version": 3
   },
   "file_extension": ".py",
   "mimetype": "text/x-python",
   "name": "python",
   "nbconvert_exporter": "python",
   "pygments_lexer": "ipython3",
   "version": "3.13.5"
  }
 },
 "nbformat": 4,
 "nbformat_minor": 5
}
