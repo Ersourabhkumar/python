{
 "cells": [
  {
   "cell_type": "code",
   "execution_count": 1,
   "id": "97004fd1-d159-4eee-9d75-774969ed625f",
   "metadata": {},
   "outputs": [
    {
     "name": "stdout",
     "output_type": "stream",
     "text": [
      "54321\n"
     ]
    }
   ],
   "source": [
    "x=12345\n",
    "rev=0\n",
    "while(x>0):\n",
    "    d=x%10\n",
    "    rev=rev*10+d\n",
    "    x=x//10\n",
    "print(rev)"
   ]
  },
  {
   "cell_type": "code",
   "execution_count": 2,
   "id": "8abaec7a-e3e0-422c-9808-1241b68fa40d",
   "metadata": {},
   "outputs": [
    {
     "name": "stdout",
     "output_type": "stream",
     "text": [
      "(12, 5, 6)\n"
     ]
    }
   ],
   "source": [
    "#list\n",
    "data=[12,5,\"ram\",True,[1,2,4],(12,5,6)]\n",
    "print(data[-1])"
   ]
  },
  {
   "cell_type": "code",
   "execution_count": 3,
   "id": "dd3d5a40-ba5d-4a74-8858-ab7b19fd083b",
   "metadata": {},
   "outputs": [
    {
     "name": "stdout",
     "output_type": "stream",
     "text": [
      "6\n"
     ]
    }
   ],
   "source": [
    "print(data[-1][-1])"
   ]
  },
  {
   "cell_type": "code",
   "execution_count": 4,
   "id": "ec7c695e-e874-47bb-971f-8f874c4db514",
   "metadata": {},
   "outputs": [
    {
     "name": "stdout",
     "output_type": "stream",
     "text": [
      "['hello', 5, 'ram', True, [1, 2, 4], (12, 5, 6)]\n"
     ]
    }
   ],
   "source": [
    "#update\n",
    "data[0]=\"hello\"\n",
    "print(data)"
   ]
  },
  {
   "cell_type": "code",
   "execution_count": 5,
   "id": "47f00c32-b9be-4b0d-b64a-b0ccd6500919",
   "metadata": {},
   "outputs": [
    {
     "name": "stdout",
     "output_type": "stream",
     "text": [
      "{0, 1, 34, 3, 5, 6, 22}\n"
     ]
    }
   ],
   "source": [
    "#dictionary\n",
    "set1={22,34,3,5,6,0,1}\n",
    "print(set1)"
   ]
  },
  {
   "cell_type": "code",
   "execution_count": 7,
   "id": "068ae317-b7e7-4092-848f-8a483bfab95d",
   "metadata": {},
   "outputs": [
    {
     "name": "stdout",
     "output_type": "stream",
     "text": [
      "23\n",
      "(23, 24, 35, 46, 6, 5)\n"
     ]
    }
   ],
   "source": [
    "#tuple\n",
    "t1=(23,24,35,46,6,5)\n",
    "print(t1[0])\n",
    "print(t1)"
   ]
  },
  {
   "cell_type": "code",
   "execution_count": 8,
   "id": "3645d4a1-aaeb-40a3-8906-4315628a70b3",
   "metadata": {},
   "outputs": [
    {
     "ename": "TypeError",
     "evalue": "'tuple' object does not support item assignment",
     "output_type": "error",
     "traceback": [
      "\u001b[31m---------------------------------------------------------------------------\u001b[39m",
      "\u001b[31mTypeError\u001b[39m                                 Traceback (most recent call last)",
      "\u001b[36mCell\u001b[39m\u001b[36m \u001b[39m\u001b[32mIn[8]\u001b[39m\u001b[32m, line 2\u001b[39m\n\u001b[32m      1\u001b[39m \u001b[38;5;66;03m#update\u001b[39;00m\n\u001b[32m----> \u001b[39m\u001b[32m2\u001b[39m \u001b[43mt1\u001b[49m\u001b[43m[\u001b[49m\u001b[32;43m0\u001b[39;49m\u001b[43m]\u001b[49m=\u001b[32m90\u001b[39m\n\u001b[32m      3\u001b[39m \u001b[38;5;28mprint\u001b[39m(t1)\n",
      "\u001b[31mTypeError\u001b[39m: 'tuple' object does not support item assignment"
     ]
    }
   ],
   "source": [
    "#update\n",
    "t1[0]=90\n",
    "print(t1) --> #it give error bcz tuple is dont change"
   ]
  },
  {
   "cell_type": "code",
   "execution_count": 9,
   "id": "a5f38e36-b83c-44a2-986c-6433e01f68a7",
   "metadata": {},
   "outputs": [
    {
     "name": "stdout",
     "output_type": "stream",
     "text": [
      "(23, 24, 3, 5, [89, 4, 3], 6)\n"
     ]
    }
   ],
   "source": [
    "t1=(23,24,3,5,[21,4,3],6)\n",
    "t1[-2][0]=89\n",
    "print(t1)"
   ]
  },
  {
   "cell_type": "code",
   "execution_count": 10,
   "id": "26b9db4b-5022-46b6-baca-3a1e2d92263c",
   "metadata": {},
   "outputs": [
    {
     "ename": "SyntaxError",
     "evalue": "invalid syntax (451031340.py, line 3)",
     "output_type": "error",
     "traceback": [
      "  \u001b[36mCell\u001b[39m\u001b[36m \u001b[39m\u001b[32mIn[10]\u001b[39m\u001b[32m, line 3\u001b[39m\n\u001b[31m    \u001b[39m\u001b[31mprint(t1) --> #it give error\u001b[39m\n               ^\n\u001b[31mSyntaxError\u001b[39m\u001b[31m:\u001b[39m invalid syntax\n"
     ]
    }
   ],
   "source": [
    "t1=(23,24,3,5,[21,4,3],6)\n",
    "t1[-2]=89\n",
    "print(t1) --> #it give error "
   ]
  },
  {
   "cell_type": "code",
   "execution_count": 12,
   "id": "6c80d609-544d-4ba6-b00c-bf442314be0c",
   "metadata": {},
   "outputs": [
    {
     "name": "stdout",
     "output_type": "stream",
     "text": [
      "<class 'list'>\n",
      "<class 'tuple'>\n",
      "<class 'dict'>\n",
      "<class 'set'>\n"
     ]
    }
   ],
   "source": [
    "d=[]\n",
    "print(type(d))\n",
    "\n",
    "t=()\n",
    "print(type(t))\n",
    "\n",
    "s={}\n",
    "print(type(s))\n",
    "\n",
    "s2=set()\n",
    "print(type(s2))"
   ]
  },
  {
   "cell_type": "code",
   "execution_count": 13,
   "id": "28c318b1-36b1-49f3-835c-29e01184a614",
   "metadata": {},
   "outputs": [
    {
     "ename": "TypeError",
     "evalue": "can only concatenate str (not \"int\") to str",
     "output_type": "error",
     "traceback": [
      "\u001b[31m---------------------------------------------------------------------------\u001b[39m",
      "\u001b[31mTypeError\u001b[39m                                 Traceback (most recent call last)",
      "\u001b[36mCell\u001b[39m\u001b[36m \u001b[39m\u001b[32mIn[13]\u001b[39m\u001b[32m, line 13\u001b[39m\n\u001b[32m      1\u001b[39m \u001b[33;03m'''\u001b[39;00m\n\u001b[32m      2\u001b[39m \u001b[33;03mfuction for type casting\u001b[39;00m\n\u001b[32m      3\u001b[39m \u001b[33;03mint()\u001b[39;00m\n\u001b[32m   (...)\u001b[39m\u001b[32m     10\u001b[39m \n\u001b[32m     11\u001b[39m \u001b[33;03m'''\u001b[39;00m\n\u001b[32m     12\u001b[39m a=\u001b[33m\"\u001b[39m\u001b[33m10\u001b[39m\u001b[33m\"\u001b[39m\n\u001b[32m---> \u001b[39m\u001b[32m13\u001b[39m \u001b[38;5;28mprint\u001b[39m(\u001b[43ma\u001b[49m\u001b[43m+\u001b[49m\u001b[32;43m90\u001b[39;49m) \u001b[38;5;66;03m#error str and int doesnt add\u001b[39;00m\n",
      "\u001b[31mTypeError\u001b[39m: can only concatenate str (not \"int\") to str"
     ]
    }
   ],
   "source": [
    "'''\n",
    "fuction for type casting\n",
    "int()\n",
    "float()\n",
    "str()\n",
    "list()\n",
    "tuple()\n",
    "set()\n",
    "dict()\n",
    "\n",
    "'''\n",
    "a=\"10\"\n",
    "print(a+90) #error str and int doesnt add"
   ]
  },
  {
   "cell_type": "code",
   "execution_count": 14,
   "id": "7337e429-e427-4c7a-bf42-36941f225c9f",
   "metadata": {},
   "outputs": [
    {
     "name": "stdout",
     "output_type": "stream",
     "text": [
      "1090\n"
     ]
    }
   ],
   "source": [
    "a=\"10\"\n",
    "print(a+\"90\")"
   ]
  },
  {
   "cell_type": "code",
   "execution_count": 1,
   "id": "b3e8d9d4-2f52-4eae-a45c-ddc41eeed103",
   "metadata": {},
   "outputs": [
    {
     "name": "stdout",
     "output_type": "stream",
     "text": [
      "['welcome', 'to', 'regex']\n"
     ]
    }
   ],
   "source": [
    "data=\"welcome to regex\"\n",
    "#new_list=list(data)\n",
    "#print(new_list)\n",
    "new_list=list(data.split(\" \"))\n",
    "print(new_list)"
   ]
  },
  {
   "cell_type": "code",
   "execution_count": 4,
   "id": "2a1d6d81-7ad3-46d7-82d1-54116f49f2d9",
   "metadata": {},
   "outputs": [
    {
     "name": "stdin",
     "output_type": "stream",
     "text": [
      " 12 3 4 \n"
     ]
    },
    {
     "ename": "ValueError",
     "evalue": "invalid literal for int() with base 10: ''",
     "output_type": "error",
     "traceback": [
      "\u001b[31m---------------------------------------------------------------------------\u001b[39m",
      "\u001b[31mValueError\u001b[39m                                Traceback (most recent call last)",
      "\u001b[36mCell\u001b[39m\u001b[36m \u001b[39m\u001b[32mIn[4]\u001b[39m\u001b[32m, line 1\u001b[39m\n\u001b[32m----> \u001b[39m\u001b[32m1\u001b[39m input_list= \u001b[38;5;28;43mlist\u001b[39;49m\u001b[43m(\u001b[49m\u001b[38;5;28;43mmap\u001b[39;49m\u001b[43m(\u001b[49m\u001b[38;5;28;43mint\u001b[39;49m\u001b[43m,\u001b[49m\u001b[38;5;28;43minput\u001b[39;49m\u001b[43m(\u001b[49m\u001b[43m)\u001b[49m\u001b[43m.\u001b[49m\u001b[43msplit\u001b[49m\u001b[43m(\u001b[49m\u001b[33;43m\"\u001b[39;49m\u001b[33;43m \u001b[39;49m\u001b[33;43m\"\u001b[39;49m\u001b[43m)\u001b[49m\u001b[43m)\u001b[49m\u001b[43m)\u001b[49m\n\u001b[32m      2\u001b[39m \u001b[38;5;28mprint\u001b[39m(\u001b[33m\"\u001b[39m\u001b[33myour input-->\u001b[39m\u001b[33m\"\u001b[39m,input_list)\n",
      "\u001b[31mValueError\u001b[39m: invalid literal for int() with base 10: ''"
     ]
    }
   ],
   "source": [
    "input_list= list(map(int,input().split(\" \")))\n",
    "print(\"your input-->\",input_list)"
   ]
  },
  {
   "cell_type": "code",
   "execution_count": 3,
   "id": "6e642c2a-cb81-4307-8fc3-a1e329314224",
   "metadata": {},
   "outputs": [
    {
     "name": "stdin",
     "output_type": "stream",
     "text": [
      " 12 3 3 \n"
     ]
    },
    {
     "name": "stdout",
     "output_type": "stream",
     "text": [
      "['12', '3', '3', '']\n"
     ]
    }
   ],
   "source": [
    "data=input().split(\" \")\n",
    "print(data)"
   ]
  },
  {
   "cell_type": "code",
   "execution_count": 5,
   "id": "a0527918-4529-4cf8-b113-4d1c2ed5e85f",
   "metadata": {},
   "outputs": [
    {
     "name": "stdout",
     "output_type": "stream",
     "text": [
      "{1, 3, 12, 4}\n"
     ]
    }
   ],
   "source": [
    "#set\n",
    "s1={12,3,1,3,4} #-->dict\n",
    "print(s1)"
   ]
  },
  {
   "cell_type": "code",
   "execution_count": 6,
   "id": "8fd0f74a-8135-474a-ab12-15da7d7f3eca",
   "metadata": {},
   "outputs": [
    {
     "name": "stdout",
     "output_type": "stream",
     "text": [
      "{1, 3, 4, 12, 90}\n",
      "{1, 3, 4, 12, 90}\n"
     ]
    }
   ],
   "source": [
    "s1.add(90)\n",
    "print(s1)\n",
    "s1.discard(190) #--> it doesnt  give error \n",
    "print(s1)\n",
    "s1.removed(190) #-->it give error\n",
    "print(s1)"
   ]
  },
  {
   "cell_type": "code",
   "execution_count": null,
   "id": "86111c4b-fd0f-4adc-95bd-3716bb401c4a",
   "metadata": {},
   "outputs": [],
   "source": []
  }
 ],
 "metadata": {
  "kernelspec": {
   "display_name": "Python 3 (ipykernel)",
   "language": "python",
   "name": "python3"
  },
  "language_info": {
   "codemirror_mode": {
    "name": "ipython",
    "version": 3
   },
   "file_extension": ".py",
   "mimetype": "text/x-python",
   "name": "python",
   "nbconvert_exporter": "python",
   "pygments_lexer": "ipython3",
   "version": "3.13.5"
  }
 },
 "nbformat": 4,
 "nbformat_minor": 5
}
