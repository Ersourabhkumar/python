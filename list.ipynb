{
 "cells": [
  {
   "cell_type": "code",
   "execution_count": 2,
   "id": "211f78d9-2587-4d17-8a18-492c95c010c9",
   "metadata": {},
   "outputs": [
    {
     "name": "stdout",
     "output_type": "stream",
     "text": [
      "140707998287048 140707998287048\n",
      "<class 'int'> <class 'int'>\n"
     ]
    }
   ],
   "source": [
    "#data type\n",
    "#list\n",
    "#python =>value assign\n",
    "#call by object referance\n",
    "x=10\n",
    "y=x      #==> x and y will have same data type and same mamory location\n",
    "print(id(x),id(y))\n",
    "print(type(x),type(y))\n"
   ]
  },
  {
   "cell_type": "code",
   "execution_count": 4,
   "id": "a643db12-5b8a-4a0e-926c-a24786328384",
   "metadata": {},
   "outputs": [
    {
     "name": "stdout",
     "output_type": "stream",
     "text": [
      "1367796415568 1367796415472\n"
     ]
    }
   ],
   "source": [
    "x=257\n",
    "y=257  # -5 to 256 same mamory Address\n",
    "print(id(x),id(y))"
   ]
  },
  {
   "cell_type": "code",
   "execution_count": 6,
   "id": "1954ae19-6dd5-4cb9-965a-0e93be2f1405",
   "metadata": {},
   "outputs": [
    {
     "name": "stdout",
     "output_type": "stream",
     "text": [
      "True\n"
     ]
    }
   ],
   "source": [
    "x=35\n",
    "y=35\n",
    "print(x is y) #==> \"is\" is a identity opr that compare the memory address"
   ]
  },
  {
   "cell_type": "code",
   "execution_count": 7,
   "id": "d98121a0-cc08-448d-af35-3783831d707e",
   "metadata": {},
   "outputs": [
    {
     "name": "stdout",
     "output_type": "stream",
     "text": [
      "sourabh\n"
     ]
    }
   ],
   "source": [
    "data=[\"sourabh\",1000,3000]\n",
    "print(data[0])\n"
   ]
  },
  {
   "cell_type": "code",
   "execution_count": 8,
   "id": "75a41050-ce44-4336-8e11-bcdb5e16aebf",
   "metadata": {},
   "outputs": [
    {
     "name": "stdout",
     "output_type": "stream",
     "text": [
      "['sourabh', 5000, 3000]\n"
     ]
    }
   ],
   "source": [
    "data=[\"sourabh\",1000,3000]\n",
    "data[1]=5000 #=> change\n",
    "print(data)\n"
   ]
  },
  {
   "cell_type": "code",
   "execution_count": 9,
   "id": "717ff17b-2923-4475-ac7c-c8653fe7a635",
   "metadata": {},
   "outputs": [
    {
     "name": "stdout",
     "output_type": "stream",
     "text": [
      "['sourabh', 5000, 3000, 'teji']\n"
     ]
    }
   ],
   "source": [
    "data.append(\"teji\")\n",
    "print(data)"
   ]
  },
  {
   "cell_type": "code",
   "execution_count": 10,
   "id": "f9e8ca32-7a86-4445-9235-322273b57170",
   "metadata": {},
   "outputs": [
    {
     "name": "stdout",
     "output_type": "stream",
     "text": [
      "['sourabh', 'kasnia', 5000, 3000, 'teji']\n"
     ]
    }
   ],
   "source": [
    "data.insert(1,\"kasnia\") #we dont use\n",
    "print(data)"
   ]
  },
  {
   "cell_type": "code",
   "execution_count": 6,
   "id": "c43e3618-17c3-410f-9464-ecb5bc21a747",
   "metadata": {},
   "outputs": [
    {
     "name": "stdout",
     "output_type": "stream",
     "text": [
      "['sourabh', 3000]\n"
     ]
    }
   ],
   "source": [
    "data=[\"sourabh\",1000,3000]\n",
    "a=data.pop(1)  #bydefault last index\n",
    "print(data)\n",
    " "
   ]
  },
  {
   "cell_type": "code",
   "execution_count": 8,
   "id": "cf8f7902-52cf-4362-9b07-e89fb99ce16b",
   "metadata": {},
   "outputs": [
    {
     "name": "stdout",
     "output_type": "stream",
     "text": [
      "1000\n"
     ]
    }
   ],
   "source": [
    "data=[\"sourabh\",1000,3000]\n",
    "a=data.pop(1)  #bydefault last index and also return the value\n",
    "print(a)"
   ]
  },
  {
   "cell_type": "code",
   "execution_count": null,
   "id": "818a549e-48e9-41ae-a541-a3af585a03cb",
   "metadata": {},
   "outputs": [],
   "source": [
    "#sort,reverse()"
   ]
  },
  {
   "cell_type": "code",
   "execution_count": 9,
   "id": "3ae6df6a-012c-4084-ac74-385c9193c0dc",
   "metadata": {},
   "outputs": [
    {
     "name": "stdout",
     "output_type": "stream",
     "text": [
      "10\n",
      "23\n",
      "34\n",
      "5\n",
      "6\n"
     ]
    }
   ],
   "source": [
    "list=[10,23,34,5,6]\n",
    "for i in list:\n",
    "    print(i)"
   ]
  },
  {
   "cell_type": "code",
   "execution_count": 17,
   "id": "4b4faf90-d812-4d5f-a452-772501e9b79b",
   "metadata": {},
   "outputs": [
    {
     "name": "stdout",
     "output_type": "stream",
     "text": [
      "10\n",
      "23\n",
      "34\n",
      "5\n",
      "6\n"
     ]
    }
   ],
   "source": [
    "list=[10,23,34,5,6]\n",
    "i=0             #=>while loop direct list pe nhi chalta then we use index system\n",
    "while(i<=4):\n",
    "    print(list[i])\n",
    "    i+=1"
   ]
  },
  {
   "cell_type": "code",
   "execution_count": 22,
   "id": "dd6baeac-3b10-4334-ae81-57f8ba01976c",
   "metadata": {},
   "outputs": [
    {
     "name": "stdout",
     "output_type": "stream",
     "text": [
      "70 6\n"
     ]
    }
   ],
   "source": [
    "data=[1,2,3,4,5,55]\n",
    "summ=0\n",
    "count=0\n",
    "for i in data:\n",
    "    summ=summ+i\n",
    "    count+=1\n",
    "print(summ,count)"
   ]
  },
  {
   "cell_type": "code",
   "execution_count": 28,
   "id": "cd5525cb-24d5-41df-bfd3-4f67db800db6",
   "metadata": {},
   "outputs": [
    {
     "name": "stdout",
     "output_type": "stream",
     "text": [
      "6\n"
     ]
    }
   ],
   "source": [
    "list=[1,\"a\",3,\"r\",\"u\",4,53,2,8]\n",
    "count=0\n",
    "for i in list:\n",
    "    if(type(i)==int):\n",
    "        count+=1\n",
    "print(count)"
   ]
  },
  {
   "cell_type": "code",
   "execution_count": 30,
   "id": "0f2e12c2-b8e6-4272-809e-77889dda80c4",
   "metadata": {},
   "outputs": [
    {
     "name": "stdout",
     "output_type": "stream",
     "text": [
      "1 1\n",
      "3 4\n"
     ]
    }
   ],
   "source": [
    "list=[1,3,4,6,53,2,8]\n",
    "summ=0\n",
    "for i in list:\n",
    "    if(i==1 or i==len(list)//2 or i==len(list)):\n",
    "        summ+=i\n",
    "\n",
    "        print(i,summ)\n",
    "    "
   ]
  },
  {
   "cell_type": "code",
   "execution_count": 32,
   "id": "d97a359f-2019-44d6-9540-16c428a1d96e",
   "metadata": {},
   "outputs": [
    {
     "name": "stdout",
     "output_type": "stream",
     "text": [
      "0.0\n"
     ]
    }
   ],
   "source": [
    "list=[1,3,4,6,53,2,8]\n",
    "summ=0\n",
    "count=0\n",
    "for i in list:\n",
    "    sum+=i\n",
    "    count+=1\n",
    "avg=summ//count\n",
    "print(avg)"
   ]
  },
  {
   "cell_type": "code",
   "execution_count": null,
   "id": "f636d966-0ca4-4ddb-9712-27a763b5c580",
   "metadata": {},
   "outputs": [],
   "source": []
  }
 ],
 "metadata": {
  "kernelspec": {
   "display_name": "Python 3 (ipykernel)",
   "language": "python",
   "name": "python3"
  },
  "language_info": {
   "codemirror_mode": {
    "name": "ipython",
    "version": 3
   },
   "file_extension": ".py",
   "mimetype": "text/x-python",
   "name": "python",
   "nbconvert_exporter": "python",
   "pygments_lexer": "ipython3",
   "version": "3.13.5"
  }
 },
 "nbformat": 4,
 "nbformat_minor": 5
}
