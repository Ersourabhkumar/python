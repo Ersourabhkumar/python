{
 "cells": [
  {
   "cell_type": "code",
   "execution_count": 2,
   "id": "916726bb-8ba1-485f-ae89-041a7af2d2cb",
   "metadata": {},
   "outputs": [
    {
     "name": "stdout",
     "output_type": "stream",
     "text": [
      "{'a': 12, 'b': 34, 'c': 56, 'd': 78}\n"
     ]
    }
   ],
   "source": [
    "# data={}\n",
    "#print(type(data))\n",
    "#s=set()\n",
    "#print(print(type(s)))\n",
    "keys=[\"a\",\"b\",\"c\",\"d\"]\n",
    "values=[12,34,56,78]\n",
    "new_data=list(zip(keys,values))\n",
    "print(new_data)"
   ]
  },
  {
   "cell_type": "code",
   "execution_count": 4,
   "id": "de8c81f3-a007-4588-a502-a3d6132f08cf",
   "metadata": {},
   "outputs": [
    {
     "name": "stdout",
     "output_type": "stream",
     "text": [
      "{'a': 12, 'b': 34, 'c': 56, 'd': 78}\n"
     ]
    }
   ],
   "source": [
    "keys=[\"a\",\"b\",\"c\",\"d\"]\n",
    "values=[12,34,56,78]\n",
    "new_data=dict(zip(keys,values))\n",
    "print(new_data)"
   ]
  },
  {
   "cell_type": "code",
   "execution_count": 7,
   "id": "3a7dc48d-3f5a-4814-aaab-4c81e4b0ae83",
   "metadata": {},
   "outputs": [
    {
     "name": "stdout",
     "output_type": "stream",
     "text": [
      "12\n"
     ]
    }
   ],
   "source": [
    "data={'a': 12, 'b': 34, 'a': 56, 'd': 78}\n",
    "print(data[\"a\"]) #--> if duplicate value h to right most keys ko hi actual  keys consider krega"
   ]
  },
  {
   "cell_type": "code",
   "execution_count": 8,
   "id": "1ddb4aaa-c49d-4215-8421-5fcf166ce9fc",
   "metadata": {},
   "outputs": [
    {
     "name": "stdout",
     "output_type": "stream",
     "text": [
      "dict_items([('a', 56), ('b', 34), ('d', 78)])\n"
     ]
    }
   ],
   "source": [
    "data={'a': 12, 'b': 34, 'a': 56, 'd': 78}\n",
    "#print(data[\"a\"])\n",
    "#data[\"a\"]=90\n",
    "#print(data)\n",
    "#data[\"f\"]=890\n",
    "#print(data)\n",
    "#items=data.items()\n",
    "#print(items)\n",
    "#value=data.value()\n",
    "#print(value)\n",
    "#key=data.keys()\n",
    "#print(key)\n",
    "\n",
    "\n"
   ]
  },
  {
   "cell_type": "code",
   "execution_count": null,
   "id": "ee48c04d-de51-4988-91e0-c1b4522a0b70",
   "metadata": {},
   "outputs": [],
   "source": []
  }
 ],
 "metadata": {
  "kernelspec": {
   "display_name": "Python 3 (ipykernel)",
   "language": "python",
   "name": "python3"
  },
  "language_info": {
   "codemirror_mode": {
    "name": "ipython",
    "version": 3
   },
   "file_extension": ".py",
   "mimetype": "text/x-python",
   "name": "python",
   "nbconvert_exporter": "python",
   "pygments_lexer": "ipython3",
   "version": "3.13.5"
  }
 },
 "nbformat": 4,
 "nbformat_minor": 5
}
