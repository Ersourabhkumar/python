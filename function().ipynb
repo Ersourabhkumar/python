{
 "cells": [
  {
   "cell_type": "code",
   "execution_count": 2,
   "id": "2fdbca98-a8c8-432b-a005-e2ca9704287e",
   "metadata": {},
   "outputs": [
    {
     "name": "stdout",
     "output_type": "stream",
     "text": [
      "120\n"
     ]
    }
   ],
   "source": [
    "\"\"\" recursion \"\"\"\n",
    "# when a fuction  call itself multiple time\n",
    "def factorial(n):\n",
    "    if n<=0:\n",
    "        return 1\n",
    "    return n*factorial(n-1)\n",
    "print(factorial(5))"
   ]
  },
  {
   "cell_type": "code",
   "execution_count": 3,
   "id": "e65a8205-ea45-4145-9cd2-a6d45998e15a",
   "metadata": {},
   "outputs": [
    {
     "name": "stdout",
     "output_type": "stream",
     "text": [
      "10\n"
     ]
    }
   ],
   "source": [
    "#nasted_function\n",
    "def outer():\n",
    "    def inner():\n",
    "        return 10\n",
    "    return inner()\n",
    "\n",
    "print(outer())"
   ]
  },
  {
   "cell_type": "code",
   "execution_count": 7,
   "id": "7e95da3f-b705-4e3b-be5f-9167b289442e",
   "metadata": {},
   "outputs": [
    {
     "name": "stdout",
     "output_type": "stream",
     "text": [
      "10\n",
      "hello\n"
     ]
    }
   ],
   "source": [
    "def outer():\n",
    "    def inner():\n",
    "        return 10\n",
    "    a = inner()\n",
    "    print(a)\n",
    "    return \"hello\"\n",
    "print(outer())\n",
    "    "
   ]
  },
  {
   "cell_type": "code",
   "execution_count": 9,
   "id": "d0c1a772-0ecd-4b31-9456-cb7fa9e10834",
   "metadata": {},
   "outputs": [
    {
     "name": "stdout",
     "output_type": "stream",
     "text": [
      "100\n"
     ]
    }
   ],
   "source": [
    "# high order fuction\n",
    "\n",
    "def operation(a,b,op):\n",
    "    return op(a,b) #add(90,10) >> 100\n",
    "def add(a,b):\n",
    "    return a+b\n",
    "def sub(a,b):\n",
    "    return a-b\n",
    "print(operation(90,10,add))\n"
   ]
  },
  {
   "cell_type": "code",
   "execution_count": 10,
   "id": "3d66886a-0370-496f-a7de-c27ecbabd909",
   "metadata": {},
   "outputs": [
    {
     "name": "stdout",
     "output_type": "stream",
     "text": [
      "(100, 80)\n"
     ]
    }
   ],
   "source": [
    "def operation(a,b,op1,op2):\n",
    "    return op1(a,b), op2(a,b) #add(90,10) >> 100,sub(90,10) >> 80\n",
    "def add(a,b):\n",
    "    return a+b\n",
    "def sub(a,b):\n",
    "    return a-b\n",
    "print(operation(90,10,add,sub))"
   ]
  },
  {
   "cell_type": "code",
   "execution_count": 13,
   "id": "548e2658-5379-4917-95cf-1a14e48e5f39",
   "metadata": {},
   "outputs": [
    {
     "name": "stdout",
     "output_type": "stream",
     "text": [
      "[1, 4, 9, 16, 25, 36]\n"
     ]
    }
   ],
   "source": [
    "# map fuction\n",
    "data=[1,2,3,4,5,6]\n",
    "def square(n):\n",
    "    return n*n\n",
    "new=list(map(square,data))\n",
    "print(new)"
   ]
  },
  {
   "cell_type": "code",
   "execution_count": 14,
   "id": "21e42799-f3e3-4c7f-bfe3-617a58366ffb",
   "metadata": {},
   "outputs": [
    {
     "name": "stdout",
     "output_type": "stream",
     "text": [
      "<class 'str'>\n"
     ]
    }
   ],
   "source": [
    "data =[\"1\",\"2\",\"3\",]\n",
    "print(type(data[0]))\n"
   ]
  },
  {
   "cell_type": "code",
   "execution_count": 15,
   "id": "750215e0-278f-4b04-af0d-a88ccf5521c1",
   "metadata": {},
   "outputs": [
    {
     "name": "stdout",
     "output_type": "stream",
     "text": [
      "[1, 2, 3]\n"
     ]
    }
   ],
   "source": [
    "data =[\"1\",\"2\",\"3\",] #convert each and every element in int type\n",
    "new=list(map(int,data))\n",
    "print(new)"
   ]
  },
  {
   "cell_type": "code",
   "execution_count": 16,
   "id": "c8408735-7c6e-4848-8ed5-e00dd1fde55a",
   "metadata": {},
   "outputs": [
    {
     "name": "stdin",
     "output_type": "stream",
     "text": [
      "enter : sourabh kasnia\n"
     ]
    },
    {
     "name": "stdout",
     "output_type": "stream",
     "text": [
      "['s', 'o', 'u', 'r', 'a', 'b', 'h', ' ', 'k', 'a', 's', 'n', 'i', 'a']\n"
     ]
    }
   ],
   "source": [
    "data=list(input(\"enter :\"))\n",
    "print(data)"
   ]
  },
  {
   "cell_type": "code",
   "execution_count": 17,
   "id": "dc60a56d-9a93-4bec-915c-b4ffe205b4fc",
   "metadata": {},
   "outputs": [
    {
     "name": "stdin",
     "output_type": "stream",
     "text": [
      "enter : sourabh kasnia\n"
     ]
    },
    {
     "name": "stdout",
     "output_type": "stream",
     "text": [
      "['sourabh', 'kasnia']\n"
     ]
    }
   ],
   "source": [
    "data=list(input(\"enter :\").split(\" \"))\n",
    "print(data)"
   ]
  },
  {
   "cell_type": "code",
   "execution_count": 19,
   "id": "97d3e406-6d24-448b-b7f3-e9880c377114",
   "metadata": {
    "scrolled": true
   },
   "outputs": [
    {
     "name": "stdin",
     "output_type": "stream",
     "text": [
      "enter : 12345\n"
     ]
    },
    {
     "name": "stdout",
     "output_type": "stream",
     "text": [
      "[1, 2, 3, 4, 5]\n"
     ]
    }
   ],
   "source": [
    "data=list(input(\"enter :\").split(\" \"))\n",
    "new=list(map(int,data))\n",
    "print(new)"
   ]
  },
  {
   "cell_type": "code",
   "execution_count": 20,
   "id": "3e709625-4b6b-42a5-9bb0-43a47aa49e70",
   "metadata": {},
   "outputs": [
    {
     "name": "stdin",
     "output_type": "stream",
     "text": [
      " 12 32 456\n"
     ]
    },
    {
     "name": "stdout",
     "output_type": "stream",
     "text": [
      "[12, 32, 456]\n"
     ]
    }
   ],
   "source": [
    "data=list(map(int,input().split(\" \")))\n",
    "print(data)"
   ]
  },
  {
   "cell_type": "code",
   "execution_count": 23,
   "id": "1030e790-bb96-4b22-9624-9a2c253b784f",
   "metadata": {},
   "outputs": [
    {
     "name": "stdout",
     "output_type": "stream",
     "text": [
      "[12, 4]\n"
     ]
    }
   ],
   "source": [
    "#filter fuction\n",
    "data=[12,13,65,4,3]\n",
    "def filter_num(n):\n",
    "    return n%2==0\n",
    "new=list(filter(filter_num,data))\n",
    "print(new)"
   ]
  },
  {
   "cell_type": "code",
   "execution_count": 25,
   "id": "d54bf5bd-413d-4901-a873-dc0fe920a260",
   "metadata": {},
   "outputs": [
    {
     "name": "stdout",
     "output_type": "stream",
     "text": [
      "(9, 2, 4, 3, 4, 55, 66, 2, 8)\n",
      "<class 'tuple'>\n"
     ]
    }
   ],
   "source": [
    "# variable argument fuction ==> unlimited argument\n",
    "\n",
    "def display(*args):\n",
    "    print(args)\n",
    "    print(type(args))\n",
    "display(9,2,4,3,4,55,66,2,8)"
   ]
  },
  {
   "cell_type": "code",
   "execution_count": 34,
   "id": "f17c7717-0e1c-4abd-a92f-c9d13d0418eb",
   "metadata": {},
   "outputs": [
    {
     "name": "stdout",
     "output_type": "stream",
     "text": [
      "956\n"
     ]
    }
   ],
   "source": [
    "def add(*args):\n",
    "    sum=0\n",
    "    for i in args:\n",
    "        sum+=i\n",
    "    return sum\n",
    "print(add(1,22,344,53,5,523,5,3))\n",
    "\n"
   ]
  },
  {
   "cell_type": "code",
   "execution_count": 35,
   "id": "c0132df7-94c7-403a-b61c-4f581502fa47",
   "metadata": {},
   "outputs": [
    {
     "name": "stdout",
     "output_type": "stream",
     "text": [
      "36\n"
     ]
    }
   ],
   "source": [
    "def data(*args):\n",
    "    sum=0\n",
    "    for i in args:\n",
    "        if(i%2==0):\n",
    "            sum+=i\n",
    "    return sum\n",
    "print(add(1,2,3,4,5,6,7,8))"
   ]
  },
  {
   "cell_type": "code",
   "execution_count": 1,
   "id": "18fd76b1-69e1-46c9-b03b-1edc9f30ef2b",
   "metadata": {},
   "outputs": [
    {
     "name": "stdout",
     "output_type": "stream",
     "text": [
      "{'a': 10, 'b': 90, 'c': 89}\n",
      "<class 'dict'>\n"
     ]
    }
   ],
   "source": [
    "# keywards argument fuction\n",
    "def f1(**kwargs):\n",
    "    print(kwargs)\n",
    "    print(type(kwargs))\n",
    "f1(a=10,b=90,c=89)"
   ]
  },
  {
   "cell_type": "code",
   "execution_count": 5,
   "id": "8462d51e-836e-4edf-92f9-517871b50a30",
   "metadata": {},
   "outputs": [
    {
     "name": "stdout",
     "output_type": "stream",
     "text": [
      "{'a': 123, 'b': 90, 'c': 89}\n"
     ]
    }
   ],
   "source": [
    "def f1(**kwargs):\n",
    "    kwargs[\"a\"]=123\n",
    "    return kwargs\n",
    "print(f1(a=10,b=90,c=89))\n"
   ]
  },
  {
   "cell_type": "code",
   "execution_count": null,
   "id": "2a63e412-0d43-4d73-b35b-da63109726d8",
   "metadata": {},
   "outputs": [],
   "source": []
  },
  {
   "cell_type": "code",
   "execution_count": 6,
   "id": "ed9e65a6-a003-4621-8650-84d064d67ddf",
   "metadata": {},
   "outputs": [],
   "source": []
  },
  {
   "cell_type": "code",
   "execution_count": 7,
   "id": "820f57d6-1be8-4608-a7ce-04bc253ce8ea",
   "metadata": {},
   "outputs": [],
   "source": []
  },
  {
   "cell_type": "code",
   "execution_count": 9,
   "id": "503d8ebc-fc51-40ff-bdbe-7b75537dffdf",
   "metadata": {},
   "outputs": [
    {
     "ename": "FileNotFoundError",
     "evalue": "[WinError 3] The system cannot find the path specified: 'c:\\\\users\\\\asd\\\\desktop\\\\cpp6\\\\data.txt'",
     "output_type": "error",
     "traceback": [
      "\u001b[31m---------------------------------------------------------------------------\u001b[39m",
      "\u001b[31mFileNotFoundError\u001b[39m                         Traceback (most recent call last)",
      "\u001b[36mCell\u001b[39m\u001b[36m \u001b[39m\u001b[32mIn[9]\u001b[39m\u001b[32m, line 2\u001b[39m\n\u001b[32m      1\u001b[39m \u001b[38;5;28;01mimport\u001b[39;00m\u001b[38;5;250m \u001b[39m\u001b[34;01mos\u001b[39;00m\n\u001b[32m----> \u001b[39m\u001b[32m2\u001b[39m \u001b[43mos\u001b[49m\u001b[43m.\u001b[49m\u001b[43mrmdir\u001b[49m\u001b[43m(\u001b[49m\u001b[33;43m\"\u001b[39;49m\u001b[33;43mc:\u001b[39;49m\u001b[38;5;130;43;01m\\\\\u001b[39;49;00m\u001b[33;43musers\u001b[39;49m\u001b[38;5;130;43;01m\\\\\u001b[39;49;00m\u001b[33;43masd\u001b[39;49m\u001b[38;5;130;43;01m\\\\\u001b[39;49;00m\u001b[33;43mdesktop\u001b[39;49m\u001b[38;5;130;43;01m\\\\\u001b[39;49;00m\u001b[33;43mcpp6\u001b[39;49m\u001b[38;5;130;43;01m\\\\\u001b[39;49;00m\u001b[33;43mdata.txt\u001b[39;49m\u001b[33;43m\"\u001b[39;49m\u001b[43m)\u001b[49m\n",
      "\u001b[31mFileNotFoundError\u001b[39m: [WinError 3] The system cannot find the path specified: 'c:\\\\users\\\\asd\\\\desktop\\\\cpp6\\\\data.txt'"
     ]
    }
   ],
   "source": [
    "\n"
   ]
  },
  {
   "cell_type": "code",
   "execution_count": null,
   "id": "2297c186-42fe-4fdb-8f5f-e548046b4d39",
   "metadata": {},
   "outputs": [],
   "source": []
  }
 ],
 "metadata": {
  "kernelspec": {
   "display_name": "Python 3 (ipykernel)",
   "language": "python",
   "name": "python3"
  },
  "language_info": {
   "codemirror_mode": {
    "name": "ipython",
    "version": 3
   },
   "file_extension": ".py",
   "mimetype": "text/x-python",
   "name": "python",
   "nbconvert_exporter": "python",
   "pygments_lexer": "ipython3",
   "version": "3.13.5"
  }
 },
 "nbformat": 4,
 "nbformat_minor": 5
}
