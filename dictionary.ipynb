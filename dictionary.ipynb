{
 "cells": [
  {
   "cell_type": "code",
   "execution_count": 2,
   "id": "e72e44a8-fc65-4184-b6f7-fd9dd0b7c085",
   "metadata": {},
   "outputs": [
    {
     "name": "stdout",
     "output_type": "stream",
     "text": [
      "{10: 'yesh', 11: 'happy'}\n",
      "happy\n"
     ]
    }
   ],
   "source": [
    "myAdhar = {10:\"yesh\", 11:\"happy\"}\n",
    "print(myAdhar)\n",
    "print(myAdhar[11])"
   ]
  },
  {
   "cell_type": "code",
   "execution_count": 3,
   "id": "5bfe8ac8-7ca2-40c9-aee2-621c6570ebab",
   "metadata": {},
   "outputs": [
    {
     "name": "stdout",
     "output_type": "stream",
     "text": [
      "happy\n",
      "{10: 'yesh', 11: 'sad'}\n"
     ]
    }
   ],
   "source": [
    "myAdhar = {10:\"yesh\", 11:\"happy\"}\n",
    "\n",
    "print(myAdhar[11]) #access[key]\n",
    "myAdhar[11]=\"sad\" #update\n",
    "print(myAdhar)"
   ]
  },
  {
   "cell_type": "code",
   "execution_count": 4,
   "id": "88504936-36c3-49b0-b546-8af4edbeb2d9",
   "metadata": {},
   "outputs": [
    {
     "name": "stdout",
     "output_type": "stream",
     "text": [
      "{10: 'yesh', 11: 'happy', 19: 'kajal'}\n"
     ]
    }
   ],
   "source": [
    "myAdhar = {10:\"yesh\", 11:\"happy\"}\n",
    "myAdhar[19]=\"kajal\" #insert\n",
    "print(myAdhar)"
   ]
  },
  {
   "cell_type": "code",
   "execution_count": 5,
   "id": "3bc0d455-1069-4690-af0c-e4aa43f7d061",
   "metadata": {},
   "outputs": [
    {
     "name": "stdout",
     "output_type": "stream",
     "text": [
      "80000\n"
     ]
    }
   ],
   "source": [
    "myAdhar = {10:\"yesh\", 11:\"happy\" ,\"salary\":80000 }\n",
    "print(myAdhar[\"salary\"])\n",
    " "
   ]
  },
  {
   "cell_type": "code",
   "execution_count": 6,
   "id": "3fa38035-0ee1-4386-a3b7-97532796932a",
   "metadata": {},
   "outputs": [
    {
     "name": "stdout",
     "output_type": "stream",
     "text": [
      "{10: 'yesh', 'salary': 80000}\n"
     ]
    }
   ],
   "source": [
    " myAdhar = {10:\"yesh\", 11:\"happy\" ,\"salary\":80000 }\n",
    "myAdhar.pop(11)\n",
    "print(myAdhar)"
   ]
  },
  {
   "cell_type": "code",
   "execution_count": 8,
   "id": "93b40cec-ee54-48ef-b0b5-5e60ecb9f7c1",
   "metadata": {},
   "outputs": [
    {
     "data": {
      "text/plain": [
       "'yesh'"
      ]
     },
     "execution_count": 8,
     "metadata": {},
     "output_type": "execute_result"
    }
   ],
   "source": [
    "myAdhar = {10:\"yesh\", 11:\"happy\" ,\"salary\":80000 }\n",
    "myAdhar.get(10)\n",
    "#print(myAdhar)"
   ]
  },
  {
   "cell_type": "code",
   "execution_count": 10,
   "id": "09d46061-4989-48de-9c29-5df07652a6a1",
   "metadata": {},
   "outputs": [
    {
     "data": {
      "text/plain": [
       "'abc'"
      ]
     },
     "execution_count": 10,
     "metadata": {},
     "output_type": "execute_result"
    }
   ],
   "source": [
    "myAdhar = {10:\"yesh\", 11:\"happy\" ,\"salary\":80000 }\n",
    "myAdhar.get(12,\"abc\") #=> #get can't error\n",
    "#print(myAdhar)"
   ]
  },
  {
   "cell_type": "code",
   "execution_count": 11,
   "id": "bbfac4c4-3899-45d0-a885-a2f5456be9e8",
   "metadata": {},
   "outputs": [
    {
     "data": {
      "text/plain": [
       "dict_values(['yesh', 'happy', 80000])"
      ]
     },
     "execution_count": 11,
     "metadata": {},
     "output_type": "execute_result"
    }
   ],
   "source": [
    "myAdhar = {10:\"yesh\", 11:\"happy\" ,\"salary\":80000 }\n",
    "myAdhar.keys()\n",
    "myAdhar.values()  #return value of a dictionary\n",
    " "
   ]
  },
  {
   "cell_type": "code",
   "execution_count": 12,
   "id": "72987250-e309-49a4-a531-880651558883",
   "metadata": {},
   "outputs": [
    {
     "name": "stdout",
     "output_type": "stream",
     "text": [
      "{'salary': 59000}\n"
     ]
    }
   ],
   "source": [
    "#Q-->\n",
    "myAdhar={\"salary\":58000}\n",
    "myAdhar[\"salary\"] = myAdhar[\"salary\"] + 1000\n",
    "print(myAdhar)"
   ]
  },
  {
   "cell_type": "code",
   "execution_count": 13,
   "id": "8decf912-8e18-465f-ae9d-33844105cc46",
   "metadata": {},
   "outputs": [
    {
     "name": "stdout",
     "output_type": "stream",
     "text": [
      "{'total': 19}\n"
     ]
    }
   ],
   "source": [
    "#Q-->\n",
    "dict={\"total\":0}\n",
    "#1 to 20, total:19\n",
    "for i in range (1,20):\n",
    "    dict[\"total\"]= dict[\"total\"]+1\n",
    "print(dict)"
   ]
  },
  {
   "cell_type": "code",
   "execution_count": 14,
   "id": "db7862c8-ad06-4a11-9106-6d01c7f265ad",
   "metadata": {},
   "outputs": [
    {
     "name": "stdout",
     "output_type": "stream",
     "text": [
      "{'total': 5}\n"
     ]
    }
   ],
   "source": [
    "a=\"hello\"\n",
    "dict={\"total\":0}\n",
    "count=0\n",
    "for i in a:\n",
    "    dict[\"total\"]=dict[\"total\"]+1\n",
    "    count+=1\n",
    "print(dict)\n",
    "\n"
   ]
  },
  {
   "cell_type": "code",
   "execution_count": 17,
   "id": "df2bf368-9aaf-41c5-9563-b5dff948bee9",
   "metadata": {},
   "outputs": [
    {
     "name": "stdout",
     "output_type": "stream",
     "text": [
      "{'count': 0}\n"
     ]
    }
   ],
   "source": [
    "a=\"aeioudsuddbjakoerieuwioaz\"\n",
    "dict={\"count\":0}\n",
    "count=0\n",
    "for i  in a:\n",
    "    if(a==\"a\" or a==\"e\" or a==\"i\" or a==\"o\" or a==\"u\"):\n",
    "        dict[\"count\"]=dict[\"count\"]+1\n",
    "        count+=1\n",
    "print(dict)"
   ]
  },
  {
   "cell_type": "code",
   "execution_count": 22,
   "id": "0e74423c-656e-4336-a84d-9fe894b7dfe3",
   "metadata": {},
   "outputs": [
    {
     "name": "stdout",
     "output_type": "stream",
     "text": [
      "{0: 0, 1: 1, 2: 4, 3: 9, 4: 16}\n"
     ]
    }
   ],
   "source": [
    "dict={}\n",
    "for i in range(0,5):\n",
    "  dict[i]=i**2\n",
    "print(dict)"
   ]
  },
  {
   "cell_type": "code",
   "execution_count": 5,
   "id": "deb517ec-817f-46a8-a9e0-89d5a6fa7afe",
   "metadata": {},
   "outputs": [
    {
     "ename": "KeyError",
     "evalue": "'adefghi'",
     "output_type": "error",
     "traceback": [
      "\u001b[31m---------------------------------------------------------------------------\u001b[39m",
      "\u001b[31mKeyError\u001b[39m                                  Traceback (most recent call last)",
      "\u001b[36mCell\u001b[39m\u001b[36m \u001b[39m\u001b[32mIn[5]\u001b[39m\u001b[32m, line 6\u001b[39m\n\u001b[32m      4\u001b[39m     \u001b[38;5;28;01mif\u001b[39;00m( s \u001b[38;5;129;01min\u001b[39;00m \u001b[33m\"\u001b[39m\u001b[33maeiou\u001b[39m\u001b[33m\"\u001b[39m):\n\u001b[32m      5\u001b[39m         \u001b[38;5;28mdict\u001b[39m[r]=\u001b[32m1\u001b[39m\n\u001b[32m----> \u001b[39m\u001b[32m6\u001b[39m \u001b[38;5;28mprint\u001b[39m(\u001b[38;5;28;43mdict\u001b[39;49m\u001b[43m[\u001b[49m\u001b[43ms\u001b[49m\u001b[43m]\u001b[49m)\n",
      "\u001b[31mKeyError\u001b[39m: 'adefghi'"
     ]
    }
   ],
   "source": [
    "s=\"adefghi\"\n",
    "dict={}\n",
    "for i in s:\n",
    "    if( s in \"aeiou\"):\n",
    "        dict[r]=1\n",
    "print(dict[])"
   ]
  },
  {
   "cell_type": "code",
   "execution_count": null,
   "id": "a6f7ada9-ac0d-4734-b79b-3d8898347a5c",
   "metadata": {},
   "outputs": [],
   "source": []
  }
 ],
 "metadata": {
  "kernelspec": {
   "display_name": "Python 3 (ipykernel)",
   "language": "python",
   "name": "python3"
  },
  "language_info": {
   "codemirror_mode": {
    "name": "ipython",
    "version": 3
   },
   "file_extension": ".py",
   "mimetype": "text/x-python",
   "name": "python",
   "nbconvert_exporter": "python",
   "pygments_lexer": "ipython3",
   "version": "3.13.5"
  }
 },
 "nbformat": 4,
 "nbformat_minor": 5
}
