{
 "cells": [
  {
   "cell_type": "code",
   "execution_count": 7,
   "id": "aae8a550-373c-4dc0-9aed-4413a26926c4",
   "metadata": {},
   "outputs": [
    {
     "name": "stdout",
     "output_type": "stream",
     "text": [
      "0\n",
      "1\n",
      "Welcome to regex\n",
      "WELCOME TO REGEX\n",
      "sdjhfetysujx\n",
      "4\n",
      "False\n"
     ]
    }
   ],
   "source": [
    "data=\"welcome to regex\"\n",
    "print(data.index(\"w\"))\n",
    "print(data.find(\"e\"))\n",
    "print(data.capitalize())\n",
    "print(data.upper())\n",
    "data1=\"SDJHFETYSUJX\"\n",
    "print(data1.lower())\n",
    "print(data.count(\"e\"))\n",
    "print(data.endswith(\"@gmail.com\"))"
   ]
  },
  {
   "cell_type": "code",
   "execution_count": 8,
   "id": "48f79085-cc76-4ad0-9f8d-3aaada56956f",
   "metadata": {},
   "outputs": [
    {
     "name": "stdin",
     "output_type": "stream",
     "text": [
      "enter: 123\n"
     ]
    },
    {
     "name": "stdout",
     "output_type": "stream",
     "text": [
      "True\n"
     ]
    }
   ],
   "source": [
    "data=input(\"enter:\")\n",
    "print(data.isnumeric())"
   ]
  },
  {
   "cell_type": "code",
   "execution_count": 9,
   "id": "634e21cb-c4f9-4367-9c43-19e335619d1a",
   "metadata": {},
   "outputs": [
    {
     "name": "stdout",
     "output_type": "stream",
     "text": [
      "False\n"
     ]
    }
   ],
   "source": [
    "print(\"2+5\".isdigit()) #-->"
   ]
  },
  {
   "cell_type": "code",
   "execution_count": 10,
   "id": "e5a4b453-2b29-49b2-b750-54932dd37b56",
   "metadata": {},
   "outputs": [
    {
     "name": "stdout",
     "output_type": "stream",
     "text": [
      "3\n"
     ]
    }
   ],
   "source": [
    "list1=[12,3,3,4,5,234,1,3]\n",
    "print(list1.count(3))"
   ]
  },
  {
   "cell_type": "code",
   "execution_count": null,
   "id": "cfb62cb4-7f4a-4eec-88ab-75fc78c30691",
   "metadata": {},
   "outputs": [],
   "source": []
  },
  {
   "cell_type": "code",
   "execution_count": 12,
   "id": "411d298f-2f01-4ffd-9eef-cd32fa34e744",
   "metadata": {},
   "outputs": [
    {
     "name": "stdin",
     "output_type": "stream",
     "text": [
      "Enter: 12\n"
     ]
    },
    {
     "name": "stdout",
     "output_type": "stream",
     "text": [
      "1\n"
     ]
    }
   ],
   "source": [
    "value=int(input(\"Enter:\"))\n",
    "count=0\n",
    "for i in list1:\n",
    "    if i==value:\n",
    "        count+=1\n",
    "print(count)\n",
    "        "
   ]
  },
  {
   "cell_type": "code",
   "execution_count": 13,
   "id": "a6166b21-f917-42cc-b159-e9ca239ef3b2",
   "metadata": {},
   "outputs": [
    {
     "name": "stdout",
     "output_type": "stream",
     "text": [
      "12\n",
      "12\n",
      "3\n",
      "43\n",
      "4\n",
      "5\n",
      "12\n",
      "3\n",
      "43\n",
      "4\n",
      "5\n"
     ]
    }
   ],
   "source": [
    "data=[12,3,43,4,5]\n",
    "print(data[0])\n",
    "for i in range(len(data)):\n",
    "    print(data[i])\n",
    "for i in data:\n",
    "    print(i)"
   ]
  },
  {
   "cell_type": "code",
   "execution_count": 16,
   "id": "405b332a-e302-4094-afbc-f29d19a40b1d",
   "metadata": {},
   "outputs": [
    {
     "name": "stdout",
     "output_type": "stream",
     "text": [
      "[2, 4, 4]\n"
     ]
    }
   ],
   "source": [
    "s=[1,2,2,3,4,4,5]\n",
    "n=[]\n",
    "for i in s:\n",
    "    for j in range(i+1,len(s)):\n",
    "        if s[i]==s[j]:\n",
    "            n.append(s[i])\n",
    "print(n)"
   ]
  },
  {
   "cell_type": "code",
   "execution_count": null,
   "id": "3800976a-be5c-44d0-8998-795b276e72c2",
   "metadata": {},
   "outputs": [],
   "source": [
    "data=\"\"\n",
    "''' calculate the occurannce of vowels in the given format'''\n",
    "#{'a':3,'e':1}\n"
   ]
  }
 ],
 "metadata": {
  "kernelspec": {
   "display_name": "Python 3 (ipykernel)",
   "language": "python",
   "name": "python3"
  },
  "language_info": {
   "codemirror_mode": {
    "name": "ipython",
    "version": 3
   },
   "file_extension": ".py",
   "mimetype": "text/x-python",
   "name": "python",
   "nbconvert_exporter": "python",
   "pygments_lexer": "ipython3",
   "version": "3.13.5"
  }
 },
 "nbformat": 4,
 "nbformat_minor": 5
}
